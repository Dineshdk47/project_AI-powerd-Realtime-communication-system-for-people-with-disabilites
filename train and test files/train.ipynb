{
 "cells": [
  {
   "cell_type": "markdown",
   "id": "89546999",
   "metadata": {},
   "source": [
    "<h1>Training the model</h1>"
   ]
  },
  {
   "cell_type": "code",
   "execution_count": 15,
   "id": "a59b84a6",
   "metadata": {},
   "outputs": [],
   "source": [
    "from tensorflow.keras.preprocessing.image import ImageDataGenerator"
   ]
  },
  {
   "cell_type": "code",
   "execution_count": 16,
   "id": "4ae3ae9f",
   "metadata": {},
   "outputs": [],
   "source": [
    "# Training Datagen\n",
    "train_datagen = ImageDataGenerator(rescale=1/255,zoom_range=0.2,horizontal_flip=True,vertical_flip=False)\n",
    "# Testing Datagen\n",
    "test_datagen = ImageDataGenerator(rescale=1/255)"
   ]
  },
  {
   "cell_type": "code",
   "execution_count": 17,
   "id": "4d3a466d",
   "metadata": {},
   "outputs": [
    {
     "name": "stdout",
     "output_type": "stream",
     "text": [
      "Found 15130 images belonging to 9 classes.\n",
      "Found 2250 images belonging to 9 classes.\n"
     ]
    }
   ],
   "source": [
    "# Training Dataset\n",
    "x_train=train_datagen.flow_from_directory(r'C:/Project/datasetai/training_set',target_size=(64,64),\n",
    "                                          class_mode='categorical',batch_size=900)\n",
    "# Testing Dataset\n",
    "x_test=test_datagen.flow_from_directory(r'C:/Project/datasetai/test_set',target_size=(64,64),\n",
    "                                        class_mode='categorical',batch_size=900)\n",
    "# Testing Dataset"
   ]
  },
  {
   "cell_type": "code",
   "execution_count": 18,
   "id": "a89fd3d0",
   "metadata": {},
   "outputs": [
    {
     "name": "stdout",
     "output_type": "stream",
     "text": [
      "Len x-train :  17\n",
      "Len x-test :  3\n"
     ]
    }
   ],
   "source": [
    "print(\"Len x-train : \", len(x_train))\n",
    "print(\"Len x-test : \", len(x_test))"
   ]
  },
  {
   "cell_type": "code",
   "execution_count": 19,
   "id": "d76f3ce3",
   "metadata": {},
   "outputs": [
    {
     "data": {
      "text/plain": [
       "{'A': 0, 'B': 1, 'C': 2, 'D': 3, 'E': 4, 'F': 5, 'G': 6, 'H': 7, 'I': 8}"
      ]
     },
     "execution_count": 19,
     "metadata": {},
     "output_type": "execute_result"
    }
   ],
   "source": [
    "# The Class Indices in Training Dataset\n",
    "x_train.class_indices"
   ]
  },
  {
   "cell_type": "code",
   "execution_count": 20,
   "id": "15cfa3d7",
   "metadata": {},
   "outputs": [],
   "source": [
    "# Importing Libraries\n",
    "from tensorflow.keras.models import Sequential\n",
    "from tensorflow.keras.layers import Convolution2D,MaxPooling2D,Flatten,Dense"
   ]
  },
  {
   "cell_type": "code",
   "execution_count": 21,
   "id": "b9e2226e",
   "metadata": {},
   "outputs": [],
   "source": [
    "# Creating Model\n",
    "model=Sequential()"
   ]
  },
  {
   "cell_type": "code",
   "execution_count": 22,
   "id": "b140bd0d",
   "metadata": {},
   "outputs": [],
   "source": [
    "# Adding Layers\n",
    "model.add(Convolution2D(32,(3,3),activation='relu',input_shape=(64,64,3)))\n",
    "model.add(MaxPooling2D(pool_size=(2,2)))\n",
    "model.add(Flatten())\n",
    "\n",
    "# Adding Hidden Layers\n",
    "model.add(Dense(300,activation='relu'))\n",
    "model.add(Dense(150,activation='relu'))\n",
    "model.add(Dense(9,activation='softmax'))"
   ]
  },
  {
   "cell_type": "code",
   "execution_count": 23,
   "id": "376f672e",
   "metadata": {},
   "outputs": [],
   "source": [
    "# Compiling the Model\n",
    "model.compile(loss='categorical_crossentropy',optimizer='adam',metrics=['accuracy'])"
   ]
  },
  {
   "cell_type": "code",
   "execution_count": 24,
   "id": "296248c7",
   "metadata": {},
   "outputs": [
    {
     "name": "stderr",
     "output_type": "stream",
     "text": [
      "C:\\Users\\abdul\\AppData\\Local\\Temp\\ipykernel_15600\\1042518445.py:2: UserWarning: `Model.fit_generator` is deprecated and will be removed in a future version. Please use `Model.fit`, which supports generators.\n",
      "  model.fit_generator(x_train,steps_per_epoch=len(x_train),epochs=10,validation_data=x_test,validation_steps=len(x_test))\n"
     ]
    },
    {
     "name": "stdout",
     "output_type": "stream",
     "text": [
      "Epoch 1/10\n",
      "17/17 [==============================] - 99s 6s/step - loss: 1.1054 - accuracy: 0.6535 - val_loss: 0.3372 - val_accuracy: 0.9120\n",
      "Epoch 2/10\n",
      "17/17 [==============================] - 96s 6s/step - loss: 0.2005 - accuracy: 0.9419 - val_loss: 0.2691 - val_accuracy: 0.9418\n",
      "Epoch 3/10\n",
      "17/17 [==============================] - 93s 5s/step - loss: 0.0835 - accuracy: 0.9772 - val_loss: 0.1847 - val_accuracy: 0.9711\n",
      "Epoch 4/10\n",
      "17/17 [==============================] - 94s 6s/step - loss: 0.0455 - accuracy: 0.9884 - val_loss: 0.1879 - val_accuracy: 0.9742\n",
      "Epoch 5/10\n",
      "17/17 [==============================] - 97s 6s/step - loss: 0.0252 - accuracy: 0.9944 - val_loss: 0.2095 - val_accuracy: 0.9742\n",
      "Epoch 6/10\n",
      "17/17 [==============================] - 94s 6s/step - loss: 0.0160 - accuracy: 0.9965 - val_loss: 0.1957 - val_accuracy: 0.9756\n",
      "Epoch 7/10\n",
      "17/17 [==============================] - 92s 5s/step - loss: 0.0103 - accuracy: 0.9982 - val_loss: 0.1886 - val_accuracy: 0.9760\n",
      "Epoch 8/10\n",
      "17/17 [==============================] - 93s 5s/step - loss: 0.0079 - accuracy: 0.9985 - val_loss: 0.2274 - val_accuracy: 0.9769\n",
      "Epoch 9/10\n",
      "17/17 [==============================] - 94s 5s/step - loss: 0.0060 - accuracy: 0.9991 - val_loss: 0.2170 - val_accuracy: 0.9756\n",
      "Epoch 10/10\n",
      "17/17 [==============================] - 94s 5s/step - loss: 0.0053 - accuracy: 0.9989 - val_loss: 0.2357 - val_accuracy: 0.9764\n"
     ]
    },
    {
     "data": {
      "text/plain": [
       "<keras.src.callbacks.History at 0x1f4ac3fe8c0>"
      ]
     },
     "execution_count": 24,
     "metadata": {},
     "output_type": "execute_result"
    }
   ],
   "source": [
    "# Fitting the Model Generator\n",
    "model.fit_generator(x_train,steps_per_epoch=len(x_train),epochs=10,validation_data=x_test,validation_steps=len(x_test))"
   ]
  },
  {
   "cell_type": "code",
   "execution_count": 26,
   "id": "ee2e4722",
   "metadata": {},
   "outputs": [],
   "source": [
    "model.save('asl_model.h5')\n",
    "# Current accuracy is 0.863"
   ]
  },
  {
   "cell_type": "code",
   "execution_count": null,
   "id": "89ad1e96",
   "metadata": {},
   "outputs": [],
   "source": []
  },
  {
   "cell_type": "code",
   "execution_count": null,
   "id": "6f36fc4b",
   "metadata": {},
   "outputs": [],
   "source": []
  },
  {
   "cell_type": "code",
   "execution_count": null,
   "id": "91f5ea8b",
   "metadata": {},
   "outputs": [],
   "source": []
  }
 ],
 "metadata": {
  "kernelspec": {
   "display_name": "Python 3 (ipykernel)",
   "language": "python",
   "name": "python3"
  },
  "language_info": {
   "codemirror_mode": {
    "name": "ipython",
    "version": 3
   },
   "file_extension": ".py",
   "mimetype": "text/x-python",
   "name": "python",
   "nbconvert_exporter": "python",
   "pygments_lexer": "ipython3",
   "version": "3.10.9"
  }
 },
 "nbformat": 4,
 "nbformat_minor": 5
}
